{
 "cells": [
  {
   "cell_type": "code",
   "execution_count": 34,
   "metadata": {},
   "outputs": [],
   "source": [
    "# source: https://www.mycasa.ph/"
   ]
  },
  {
   "cell_type": "markdown",
   "metadata": {},
   "source": [
    "#### Predictive Maintenance\n",
    "    It employs monitoring and prediction modelling to determine the condition of the machine and to predict what is likely to fail and when it is going to happen.\n",
    "\n",
    "#### Preventive Maintenance\n",
    "\n",
    "    It is the common practice in the automotive industry, where vehicle components are replaced or overhauled periodicaly. It is a crude policy whick enforces maintenance actions at a given vehicle age regardless of vehicle status. Vehicle age is by calendar time, mileage or total amount of consumed fuel. The latter is used to individually adjust the mainterance interval of passenger cars based on the usage and driving style\n",
    "    \n",
    "#### Corrective Maintenance\n",
    "    It is done after a failure has occurred and it often causes downtime.\n",
    "    "
   ]
  },
  {
   "cell_type": "markdown",
   "metadata": {},
   "source": [
    "# Kinds of Car Check-ups or Maintenance"
   ]
  },
  {
   "cell_type": "markdown",
   "metadata": {},
   "source": [
    "#### Short Term Check-ups\n",
    "\n",
    "* Oil and Coolant Fluid (manufacturers recommendation)\n",
    "* Air Filters \n",
    "* Tire pressure and Thread depth\n",
    "* Headlights, Turn signal, Brake, Parking Lights"
   ]
  },
  {
   "cell_type": "markdown",
   "metadata": {},
   "source": [
    "#### Long Term Check-ups\n",
    "\n",
    "* Transmission fluid (manufacturers recommendation)\n",
    "* Transfercase fluid (manufacturers recommendation)\n",
    "* Inspect Shock and Struts (every 50,000 miles)\n",
    "* Coolant fluid\n",
    "* Spark plugs (manufacturers recommendation)\n",
    "* Serpentine Belts (Damaged or manufacturers recommendation)\n",
    "* Front and Back Differentials"
   ]
  },
  {
   "cell_type": "markdown",
   "metadata": {},
   "source": [
    "#### Seasonal Check-ups\n",
    "\n",
    "* Windshield wiper replacement (one a year or decreased effectiveness)\n",
    "* Battery Performance Check\n",
    "* Change of Tires\n",
    "* Coolant Levels"
   ]
  },
  {
   "cell_type": "markdown",
   "metadata": {},
   "source": [
    "# Mycasa Price List and Services Offered"
   ]
  },
  {
   "cell_type": "markdown",
   "metadata": {},
   "source": [
    "## List of Services Offered"
   ]
  },
  {
   "cell_type": "markdown",
   "metadata": {},
   "source": [
    "### Engine Services"
   ]
  },
  {
   "cell_type": "markdown",
   "metadata": {},
   "source": [
    "* #### Basic Change Oil\n",
    "    A Basic Change Oil includes replacing the engine oil and the engine filter. It is MyCASA practice to recommend oil flushing to help take out as much of the old dirty oil, before pouring in the new oil.\n",
    "\n",
    "* #### Preventine Maintenance Schedule / Tune Up\n",
    "    This service starts with the Basic Change Oil with recommended add-ons based on mileage and condition of your vehicle. Example of add-ons are engine air filter, cabin filter, spark plugs, fuel filter.\n",
    "    \n",
    "* #### Intake / EGR Cleaning \n",
    "    Over time and use, dirt and gunk accumulate within the intake manifold chambers and its components. The flow of air is blocked, and this leads to poor vehicle performance. In this cleaning process, the complete intake manifold system and components are taken down and cleaned manually. This service is highly recommended for diesel vehicles over 40,000 km mileage.\n",
    "    \n",
    "* #### Engine Decarbonize\n",
    "    Engine decarbonize is performed by dispensing a cleaning chemical into the intake system of the vehicle. The chemical cleans dirt and residue that has accumulated over time and use. The chemical also lubricates the intake system to prevent future buildup of dirt and residue. It is MyCASA practice to recommended a follow through application of fuel injector cleaner to complete the combustion system cleaning. For the best maintenance, this process is done every 15,000 kms."
   ]
  },
  {
   "cell_type": "markdown",
   "metadata": {},
   "source": [
    "### Brake Services"
   ]
  },
  {
   "cell_type": "markdown",
   "metadata": {},
   "source": [
    "* #### Rotor Reface (On-Car Lathe Machine)\n",
    "    Over use, rotors get worn. This leads to brake problems like noise, vibration, uneven feel and poor braking performance. Rotor re-surface ensures that rotors function optimally in relation to the brake pads and brake system. MyCASA uses an on-car brake lathe machine that allows re-surfacing to be done without taking out the rotors. This is faster and the result gives better performance as the rotor is re-surfaced on its actual axis of rotation.\n",
    "\n",
    "* #### Change Brake Pads (with Rotor Reface)\n",
    "    Brake pads are replaced by pair (left and right). Upon installation of new pads, the brake system is also cleaned in the process. It is MyCASA practice to always reface the rotors upon changing of pads to avoid issues like brake noise and vibration upon braking.\n",
    "    \n",
    "* #### Brake CLeaning / Change Brake Shoes\n",
    "    Change of Brake Shoes is packaged with brake cleaning of all wheels. This ensures the entire brake system functions optimally.\n",
    "    \n",
    "* #### Brake Fluid Flushing\n",
    "    Brake fluid naturally absorbs moisture. For this reason, it needs to be changed regularly (every 2 to 3 years) to keep the brake system in safe working condition. MyCASA carries DOT3 and DOT4 brake fluids."
   ]
  },
  {
   "cell_type": "markdown",
   "metadata": {},
   "source": [
    "### Specialized Services"
   ]
  },
  {
   "cell_type": "markdown",
   "metadata": {},
   "source": [
    "* #### Radiator Dialysis\n",
    "    Old radiator coolant (or water) is flushed and replaced through the use of MyCASA pressurised dialysis machine. The process involved continuous replacement of fluid until the radiator system becomes clean of contaminants. It is MyCASA practice to use coolant to refill the radiator.\n",
    "    \n",
    "* #### Automatic Transmission Fluid \n",
    "    Using the MyCASA ATF Dialysis Machine, automatic transmission fluid is continuously pumped into the transmission system to ensure that all of the old fluid is completely flushed out of the system. This minimises contamination of the new fluid, which leads to better vehicle performance."
   ]
  },
  {
   "cell_type": "markdown",
   "metadata": {},
   "source": [
    "### Aircon Services"
   ]
  },
  {
   "cell_type": "markdown",
   "metadata": {},
   "source": [
    "* #### Aircon System Cleaning (Non Pulldown)\n",
    "    To maintain the cooling performance of the aircon system, it needs to be regularly cleaned. Our aircon cleaning service is a convenient way to regularly clean the evaporator system without the need to pull down the dashboard. This service is packaged with basic freon top-up, leak test, and condenser cleaning.\n",
    "    \n",
    "* #### Aircon General Cleaning (Dash Pulldown)\n",
    "    This service is for vehicles that need extensive cleaning of the whole aircon system. It includes pulldown of dashboard to access the evaporator and other aircon components."
   ]
  },
  {
   "cell_type": "markdown",
   "metadata": {},
   "source": [
    "### Diagnosis and Repair"
   ]
  },
  {
   "cell_type": "markdown",
   "metadata": {},
   "source": [
    "* #### Vehicle Diagnosis\n",
    "    Diagnosis using visual, special equipment or with OBD Scan tool (price varies). P400 will be discounted should the repair be done by MyCASA later on.\n",
    "    \n",
    "* #### Repairs nd Labor-Only Services\n",
    "    Home Service Vehicle Repairs can be accommodated on a case to case basis. Rates start at P1,200. The final amount would depend on the complete details of the repair or service needed."
   ]
  },
  {
   "cell_type": "code",
   "execution_count": 35,
   "metadata": {},
   "outputs": [],
   "source": [
    "# Price List from mycasa.ph"
   ]
  },
  {
   "cell_type": "code",
   "execution_count": 36,
   "metadata": {},
   "outputs": [],
   "source": [
    "master_list = pd.read_csv('price_list.csv')"
   ]
  },
  {
   "cell_type": "code",
   "execution_count": 37,
   "metadata": {},
   "outputs": [
    {
     "data": {
      "text/html": [
       "<div>\n",
       "<style scoped>\n",
       "    .dataframe tbody tr th:only-of-type {\n",
       "        vertical-align: middle;\n",
       "    }\n",
       "\n",
       "    .dataframe tbody tr th {\n",
       "        vertical-align: top;\n",
       "    }\n",
       "\n",
       "    .dataframe thead th {\n",
       "        text-align: right;\n",
       "    }\n",
       "</style>\n",
       "<table border=\"1\" class=\"dataframe\">\n",
       "  <thead>\n",
       "    <tr style=\"text-align: right;\">\n",
       "      <th></th>\n",
       "      <th>Unnamed: 0</th>\n",
       "      <th>Basic Services</th>\n",
       "      <th>Prices [Php]</th>\n",
       "      <th>Duration[hour]</th>\n",
       "    </tr>\n",
       "  </thead>\n",
       "  <tbody>\n",
       "    <tr>\n",
       "      <th>0</th>\n",
       "      <td>0</td>\n",
       "      <td>Basic Oil Change</td>\n",
       "      <td>2155</td>\n",
       "      <td>1.0</td>\n",
       "    </tr>\n",
       "    <tr>\n",
       "      <th>1</th>\n",
       "      <td>1</td>\n",
       "      <td>Preventive Maintenance Schedule [varies]</td>\n",
       "      <td>0</td>\n",
       "      <td>1.0</td>\n",
       "    </tr>\n",
       "    <tr>\n",
       "      <th>2</th>\n",
       "      <td>2</td>\n",
       "      <td>Intake / EGR Cleaning</td>\n",
       "      <td>3500</td>\n",
       "      <td>2.0</td>\n",
       "    </tr>\n",
       "    <tr>\n",
       "      <th>3</th>\n",
       "      <td>3</td>\n",
       "      <td>Engine Decarbonize</td>\n",
       "      <td>2800</td>\n",
       "      <td>1.0</td>\n",
       "    </tr>\n",
       "    <tr>\n",
       "      <th>4</th>\n",
       "      <td>4</td>\n",
       "      <td>Rotor Reface (On-Car Lathe Machine)</td>\n",
       "      <td>2500</td>\n",
       "      <td>2.0</td>\n",
       "    </tr>\n",
       "    <tr>\n",
       "      <th>5</th>\n",
       "      <td>5</td>\n",
       "      <td>Change of Brake Pads (with Rotor Reface)</td>\n",
       "      <td>2500</td>\n",
       "      <td>2.0</td>\n",
       "    </tr>\n",
       "    <tr>\n",
       "      <th>6</th>\n",
       "      <td>6</td>\n",
       "      <td>Brake Cleaning / Change Brake Shoes</td>\n",
       "      <td>2100</td>\n",
       "      <td>2.0</td>\n",
       "    </tr>\n",
       "    <tr>\n",
       "      <th>7</th>\n",
       "      <td>7</td>\n",
       "      <td>Brake Fuild Flushing</td>\n",
       "      <td>2650</td>\n",
       "      <td>2.0</td>\n",
       "    </tr>\n",
       "    <tr>\n",
       "      <th>8</th>\n",
       "      <td>8</td>\n",
       "      <td>Raditor Dialysis</td>\n",
       "      <td>3715</td>\n",
       "      <td>2.0</td>\n",
       "    </tr>\n",
       "    <tr>\n",
       "      <th>9</th>\n",
       "      <td>9</td>\n",
       "      <td>Automatic Transmission Fluid Dislysis</td>\n",
       "      <td>5750</td>\n",
       "      <td>3.0</td>\n",
       "    </tr>\n",
       "    <tr>\n",
       "      <th>10</th>\n",
       "      <td>10</td>\n",
       "      <td>Aircon System Cleaning (Non-Pulldown)</td>\n",
       "      <td>4800</td>\n",
       "      <td>2.0</td>\n",
       "    </tr>\n",
       "    <tr>\n",
       "      <th>11</th>\n",
       "      <td>11</td>\n",
       "      <td>Aircon General Cleaning (Dash Pulldown)</td>\n",
       "      <td>8500</td>\n",
       "      <td>3.0</td>\n",
       "    </tr>\n",
       "    <tr>\n",
       "      <th>12</th>\n",
       "      <td>12</td>\n",
       "      <td>Vehicle Diagnosis</td>\n",
       "      <td>1200</td>\n",
       "      <td>0.5</td>\n",
       "    </tr>\n",
       "    <tr>\n",
       "      <th>13</th>\n",
       "      <td>13</td>\n",
       "      <td>Repairs and Labor-Only Services</td>\n",
       "      <td>1200</td>\n",
       "      <td>1.0</td>\n",
       "    </tr>\n",
       "  </tbody>\n",
       "</table>\n",
       "</div>"
      ],
      "text/plain": [
       "    Unnamed: 0                            Basic Services  Prices [Php]  \\\n",
       "0            0                          Basic Oil Change          2155   \n",
       "1            1  Preventive Maintenance Schedule [varies]             0   \n",
       "2            2                     Intake / EGR Cleaning          3500   \n",
       "3            3                        Engine Decarbonize          2800   \n",
       "4            4       Rotor Reface (On-Car Lathe Machine)          2500   \n",
       "5            5  Change of Brake Pads (with Rotor Reface)          2500   \n",
       "6            6       Brake Cleaning / Change Brake Shoes          2100   \n",
       "7            7                      Brake Fuild Flushing          2650   \n",
       "8            8                          Raditor Dialysis          3715   \n",
       "9            9     Automatic Transmission Fluid Dislysis          5750   \n",
       "10          10     Aircon System Cleaning (Non-Pulldown)          4800   \n",
       "11          11   Aircon General Cleaning (Dash Pulldown)          8500   \n",
       "12          12                         Vehicle Diagnosis          1200   \n",
       "13          13           Repairs and Labor-Only Services          1200   \n",
       "\n",
       "    Duration[hour]  \n",
       "0              1.0  \n",
       "1              1.0  \n",
       "2              2.0  \n",
       "3              1.0  \n",
       "4              2.0  \n",
       "5              2.0  \n",
       "6              2.0  \n",
       "7              2.0  \n",
       "8              2.0  \n",
       "9              3.0  \n",
       "10             2.0  \n",
       "11             3.0  \n",
       "12             0.5  \n",
       "13             1.0  "
      ]
     },
     "execution_count": 37,
     "metadata": {},
     "output_type": "execute_result"
    }
   ],
   "source": [
    "# mycasa.ph pricelist\n",
    "master_list"
   ]
  },
  {
   "cell_type": "code",
   "execution_count": null,
   "metadata": {},
   "outputs": [],
   "source": []
  }
 ],
 "metadata": {
  "kernelspec": {
   "display_name": "Python 3",
   "language": "python",
   "name": "python3"
  },
  "language_info": {
   "codemirror_mode": {
    "name": "ipython",
    "version": 3
   },
   "file_extension": ".py",
   "mimetype": "text/x-python",
   "name": "python",
   "nbconvert_exporter": "python",
   "pygments_lexer": "ipython3",
   "version": "3.8.5"
  }
 },
 "nbformat": 4,
 "nbformat_minor": 4
}
